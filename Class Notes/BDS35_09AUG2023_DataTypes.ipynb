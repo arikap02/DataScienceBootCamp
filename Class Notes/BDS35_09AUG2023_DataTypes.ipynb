{
  "nbformat": 4,
  "nbformat_minor": 0,
  "metadata": {
    "colab": {
      "provenance": []
    },
    "kernelspec": {
      "name": "python3",
      "display_name": "Python 3"
    },
    "language_info": {
      "name": "python"
    }
  },
  "cells": [
    {
      "cell_type": "code",
      "execution_count": 85,
      "metadata": {
        "colab": {
          "base_uri": "https://localhost:8080/"
        },
        "id": "qloa64aXwa0c",
        "outputId": "7d21d8c5-e186-42ba-f0a1-5f05ededd63d"
      },
      "outputs": [
        {
          "output_type": "stream",
          "name": "stdout",
          "text": [
            "1947\n",
            "<class 'int'>\n",
            "-1947\n",
            "<class 'int'>\n",
            "3.1415\n",
            "<class 'float'>\n",
            "-3.1415\n",
            "<class 'float'>\n",
            "(2+3j)\n",
            "<class 'complex'>\n",
            "(-2-3j)\n",
            "<class 'complex'>\n",
            "True\n",
            "<class 'bool'>\n",
            "False\n",
            "<class 'bool'>\n",
            "Python Programming\n",
            "<class 'str'>\n",
            "Python Programming\n",
            "<class 'str'>\n",
            "Python Programming\n",
            "<class 'str'>\n",
            "Python Programming\n",
            "<class 'str'>\n"
          ]
        }
      ],
      "source": [
        "#Integer : Any whole number (+ve or -ve) is called as integer\n",
        "\n",
        "int1 = 1947\n",
        "print(int1)\n",
        "print(type(int1))\n",
        "\n",
        "int1 = -1947\n",
        "print(int1)\n",
        "print(type(int1))\n",
        "\n",
        "#Float : Any Combination of whole number and fractional number (+ve or -ve) is called as float.\n",
        "flt1 = 3.1415\n",
        "print(flt1)\n",
        "print(type(flt1))\n",
        "\n",
        "flt1 = -3.1415\n",
        "print(flt1)\n",
        "print(type(flt1))\n",
        "\n",
        "#Complex : Combination of integer or float and imaginary number integer or float is called as complex\n",
        "\n",
        "cmplx1 = 2 + 3j\n",
        "print(cmplx1)\n",
        "print(type(cmplx1))\n",
        "\n",
        "cmplx1 = -2 -3j\n",
        "print(cmplx1)\n",
        "print(type(cmplx1))\n",
        "\n",
        "# Boolean : True and False\n",
        "\n",
        "bool1 = True\n",
        "print(bool1)\n",
        "print(type(bool1))\n",
        "\n",
        "bool1 = False\n",
        "print(bool1)\n",
        "print(type(bool1))\n",
        "\n",
        "# String\n",
        "# any combination inside single quotes\n",
        "# any combination inside double quotes\n",
        "# any combination inside triple single quotes\n",
        "# any combination inside triple double quotes\n",
        "\n",
        "str1 = 'Python Programming'\n",
        "print(str1)\n",
        "print(type(str1))\n",
        "\n",
        "str1 = \"Python Programming\"\n",
        "print(str1)\n",
        "print(type(str1))\n",
        "\n",
        "str1 = '''Python Programming'''\n",
        "print(str1)\n",
        "print(type(str1))\n",
        "\n",
        "str1 = \"\"\"Python Programming\"\"\"\n",
        "print(str1)\n",
        "print(type(str1))\n",
        "\n"
      ]
    },
    {
      "cell_type": "code",
      "source": [
        "str1 = \"\"\"'My name is Arika'.\"I love Coffee\". I am very excited to learn 'Python' today.\"\"\"\n",
        "print(str1)\n"
      ],
      "metadata": {
        "colab": {
          "base_uri": "https://localhost:8080/"
        },
        "id": "2fjwpN-01RKe",
        "outputId": "51ce737a-4209-4283-cbd3-9d1c240acf63"
      },
      "execution_count": 21,
      "outputs": [
        {
          "output_type": "stream",
          "name": "stdout",
          "text": [
            "'My name is Arika'.\"I love Coffee\". I am very excited to learn 'Python' today.\n"
          ]
        }
      ]
    },
    {
      "cell_type": "code",
      "source": [
        "# List\n",
        "# 1. List is represented by square bracket []\n",
        "# 2. List is mutable(or can be manupluated or changed)\n",
        "\n",
        "lst1 = [1,22,44,5599.45,33]\n",
        "print(lst1)\n",
        "print(type(lst1))\n"
      ],
      "metadata": {
        "colab": {
          "base_uri": "https://localhost:8080/"
        },
        "id": "BWQBsa1T4cTW",
        "outputId": "525cc51d-54a1-4ddd-f37c-c46cdd98a002"
      },
      "execution_count": 22,
      "outputs": [
        {
          "output_type": "stream",
          "name": "stdout",
          "text": [
            "[1, 22, 44, 5599.45, 33]\n",
            "<class 'list'>\n"
          ]
        }
      ]
    },
    {
      "cell_type": "code",
      "source": [
        "# Tuple\n",
        "# 1. Tuple is represented by the circular brackets ()\n",
        "# 2. Tuple is immutable(cannot be changed or manupluated)\n",
        "\n",
        "tup1 = (1,2,3,4,5,6,7,8,9)\n",
        "print(tup1)\n",
        "print(type(tup1))"
      ],
      "metadata": {
        "colab": {
          "base_uri": "https://localhost:8080/"
        },
        "id": "QYhePVWZ5V1K",
        "outputId": "93533eb8-2974-49af-bf86-43ba958efc02"
      },
      "execution_count": 23,
      "outputs": [
        {
          "output_type": "stream",
          "name": "stdout",
          "text": [
            "(1, 2, 3, 4, 5, 6, 7, 8, 9)\n",
            "<class 'tuple'>\n"
          ]
        }
      ]
    },
    {
      "cell_type": "code",
      "source": [
        "# Set\n",
        "# 1. Set is the combination of Unique values\n",
        "# 2. Set is collection of unordered elements(which means it displays values randomly)\n",
        "# 3. Set is represented by curly brackets\n",
        "# 4. Set is mutable(means we can make changes/manupluated)\n",
        "\n",
        "set1 = {'a','b','c','D','E','F',1,2,3,'!','@','#',1,2,3,'!','@','#',}\n",
        "print(set1)\n",
        "print(type(set1))\n",
        "\n",
        "\n"
      ],
      "metadata": {
        "colab": {
          "base_uri": "https://localhost:8080/"
        },
        "id": "TmC_gqDM57FI",
        "outputId": "07b8ec5e-96ae-4392-8bf7-c129ef62f4cf"
      },
      "execution_count": 25,
      "outputs": [
        {
          "output_type": "stream",
          "name": "stdout",
          "text": [
            "{1, 'c', 3, 2, '!', 'a', 'E', 'F', 'D', '@', 'b', '#'}\n",
            "<class 'set'>\n"
          ]
        }
      ]
    },
    {
      "cell_type": "code",
      "source": [
        "# List\n",
        "lst1 = [1,22.5,'44+5k',0,'Arika']\n",
        "print(lst1)\n",
        "print(type(lst1))\n",
        "\n",
        "# tupl\n",
        "tup1 = (1,60.8, '-80-4I',1, '0''a')\n",
        "print(tup1)\n",
        "print(type(tup1))\n",
        "\n",
        "# set\n",
        "set1 = {True,False,0,1,2,3,'45','80.65','Ari','#','True', 'False'}\n",
        "print(set1)\n",
        "print(type(set1))\n",
        "\n",
        "\n"
      ],
      "metadata": {
        "colab": {
          "base_uri": "https://localhost:8080/"
        },
        "id": "tV9Xu5Cy7bO0",
        "outputId": "031b2dec-7959-49cd-c9a7-8c24d8ce2005"
      },
      "execution_count": 45,
      "outputs": [
        {
          "output_type": "stream",
          "name": "stdout",
          "text": [
            "[1, 22.5, '44+5k', 0, 'Arika']\n",
            "<class 'list'>\n",
            "(1, 60.8, '-80-4I', 1, '0a')\n",
            "<class 'tuple'>\n",
            "{False, True, 2, 3, 'True', 'False', '80.65', '45', 'Ari', '#'}\n",
            "<class 'set'>\n"
          ]
        }
      ]
    },
    {
      "cell_type": "markdown",
      "source": [
        "a = Key\n",
        "apple = value"
      ],
      "metadata": {
        "id": "eL5UnKex_wMm"
      }
    },
    {
      "cell_type": "code",
      "source": [
        "dict1 = {'a': 'apple', 'b' : 'banana', 'c' : 'cherries'}\n",
        "print(dict1)\n",
        "print(type(dict1))\n",
        "\n",
        "#Create dictionary of List, Tppl, List"
      ],
      "metadata": {
        "colab": {
          "base_uri": "https://localhost:8080/"
        },
        "id": "YS2MjNrw_aCK",
        "outputId": "28e229c7-0e71-40c7-cb9c-7a2ab249a77e"
      },
      "execution_count": 48,
      "outputs": [
        {
          "output_type": "stream",
          "name": "stdout",
          "text": [
            "{'a': 'apple', 'b': 'banana', 'c': 'cherries'}\n",
            "<class 'dict'>\n"
          ]
        }
      ]
    },
    {
      "cell_type": "code",
      "source": [
        "str1 = 'Arika Pathak Hello There'\n",
        "print(str1)\n",
        "print(type(str1))\n",
        "print(len(str1))"
      ],
      "metadata": {
        "colab": {
          "base_uri": "https://localhost:8080/"
        },
        "id": "dFJxBOy0BcXH",
        "outputId": "0b71ef16-b763-47d1-8b35-824db54afd68"
      },
      "execution_count": 60,
      "outputs": [
        {
          "output_type": "stream",
          "name": "stdout",
          "text": [
            "Arika Pathak Hello There\n",
            "<class 'str'>\n",
            "24\n"
          ]
        }
      ]
    },
    {
      "cell_type": "code",
      "source": [
        "#Print\n",
        "print(str1[0])\n",
        "print(str1[1])\n",
        "print(str1[2])\n",
        "print(str1[3])\n",
        "print(str1[4])\n",
        "print(str1[5])\n",
        "print(str1[6])\n",
        "print(str1[7])\n",
        "print(str1[8])\n",
        "print(str1[9])\n",
        "print(str1[10])\n",
        "print(str1[12])\n",
        "print(str1[13])\n",
        "print(str1[14])\n",
        "print(str1[15])\n",
        "print(str1[16])\n",
        "print(str1[17])\n",
        "print(str1[18])"
      ],
      "metadata": {
        "colab": {
          "base_uri": "https://localhost:8080/"
        },
        "id": "DopTjAq9CRnV",
        "outputId": "ea8a802f-3b24-4c96-fae5-adbc9ae1dc01"
      },
      "execution_count": 63,
      "outputs": [
        {
          "output_type": "stream",
          "name": "stdout",
          "text": [
            "A\n",
            "r\n",
            "i\n",
            "k\n",
            "a\n",
            " \n",
            "P\n",
            "a\n",
            "t\n",
            "h\n",
            "a\n",
            " \n",
            "H\n",
            "e\n",
            "l\n",
            "l\n",
            "o\n",
            " \n"
          ]
        }
      ]
    },
    {
      "cell_type": "code",
      "source": [
        "str1[0:6:1], str1[6:12:1], str1[13:18:1], str1[19:24:1]"
      ],
      "metadata": {
        "colab": {
          "base_uri": "https://localhost:8080/"
        },
        "id": "mr98mhLbD64j",
        "outputId": "60e85796-1ade-407d-bf55-dc37ba676036"
      },
      "execution_count": 73,
      "outputs": [
        {
          "output_type": "execute_result",
          "data": {
            "text/plain": [
              "('Arika ', 'Pathak', 'Hello', 'There')"
            ]
          },
          "metadata": {},
          "execution_count": 73
        }
      ]
    },
    {
      "cell_type": "code",
      "source": [
        "str1[0:6:2], str1[6:12:2], str1[13:18:2], str1[19:24:2]"
      ],
      "metadata": {
        "colab": {
          "base_uri": "https://localhost:8080/"
        },
        "id": "ZIYYOWrwFolt",
        "outputId": "88f16634-1f77-45c3-ca17-e8fe464d5276"
      },
      "execution_count": 74,
      "outputs": [
        {
          "output_type": "execute_result",
          "data": {
            "text/plain": [
              "('Aia', 'Pta', 'Hlo', 'Tee')"
            ]
          },
          "metadata": {},
          "execution_count": 74
        }
      ]
    },
    {
      "cell_type": "code",
      "source": [
        "str1[0:6:3], str1[6:12:3], str1[13:18:3], str1[19:24:3]"
      ],
      "metadata": {
        "colab": {
          "base_uri": "https://localhost:8080/"
        },
        "id": "LCsAr6VlFt4a",
        "outputId": "ad56e405-d4b7-4501-dda6-e11a59fc7e84"
      },
      "execution_count": 75,
      "outputs": [
        {
          "output_type": "execute_result",
          "data": {
            "text/plain": [
              "('Ak', 'Ph', 'Hl', 'Tr')"
            ]
          },
          "metadata": {},
          "execution_count": 75
        }
      ]
    },
    {
      "cell_type": "code",
      "source": [
        "str1 = 'HellothereThisisArika'\n"
      ],
      "metadata": {
        "id": "Yr-0b-LlIOsd"
      },
      "execution_count": 89,
      "outputs": []
    },
    {
      "cell_type": "code",
      "source": [
        "str1[: :]"
      ],
      "metadata": {
        "colab": {
          "base_uri": "https://localhost:8080/",
          "height": 36
        },
        "id": "ZwKuT0qALaAs",
        "outputId": "8d5718aa-bc31-45e9-beb5-54b40eec1c43"
      },
      "execution_count": 92,
      "outputs": [
        {
          "output_type": "execute_result",
          "data": {
            "text/plain": [
              "'HellothereThisisArika'"
            ],
            "application/vnd.google.colaboratory.intrinsic+json": {
              "type": "string"
            }
          },
          "metadata": {},
          "execution_count": 92
        }
      ]
    },
    {
      "cell_type": "code",
      "source": [
        "str1[0: :]"
      ],
      "metadata": {
        "colab": {
          "base_uri": "https://localhost:8080/",
          "height": 36
        },
        "id": "P5JQWru3Idhq",
        "outputId": "4e0389d2-08b3-4310-fe99-e8bb509241db"
      },
      "execution_count": 90,
      "outputs": [
        {
          "output_type": "execute_result",
          "data": {
            "text/plain": [
              "'HellothereThisisArika'"
            ],
            "application/vnd.google.colaboratory.intrinsic+json": {
              "type": "string"
            }
          },
          "metadata": {},
          "execution_count": 90
        }
      ]
    },
    {
      "cell_type": "code",
      "source": [
        "str1[:len(str1):]"
      ],
      "metadata": {
        "colab": {
          "base_uri": "https://localhost:8080/",
          "height": 36
        },
        "id": "5h2hr-uZIlRf",
        "outputId": "de53aabd-f1dc-436d-9c47-1ebf4b2b09fe"
      },
      "execution_count": 80,
      "outputs": [
        {
          "output_type": "execute_result",
          "data": {
            "text/plain": [
              "'HellothereThisisArika'"
            ],
            "application/vnd.google.colaboratory.intrinsic+json": {
              "type": "string"
            }
          },
          "metadata": {},
          "execution_count": 80
        }
      ]
    },
    {
      "cell_type": "code",
      "source": [
        "str1[::1]"
      ],
      "metadata": {
        "colab": {
          "base_uri": "https://localhost:8080/",
          "height": 36
        },
        "id": "D21ZBXHyI1T-",
        "outputId": "c28c8044-ed56-425b-e6f5-6889f608f768"
      },
      "execution_count": 81,
      "outputs": [
        {
          "output_type": "execute_result",
          "data": {
            "text/plain": [
              "'HellothereThisisArika'"
            ],
            "application/vnd.google.colaboratory.intrinsic+json": {
              "type": "string"
            }
          },
          "metadata": {},
          "execution_count": 81
        }
      ]
    },
    {
      "cell_type": "code",
      "source": [
        "str1[18::]"
      ],
      "metadata": {
        "colab": {
          "base_uri": "https://localhost:8080/",
          "height": 36
        },
        "id": "r7xMEu2QI92h",
        "outputId": "a2f2f1b7-c27f-46e4-ce96-8687156128eb"
      },
      "execution_count": 82,
      "outputs": [
        {
          "output_type": "execute_result",
          "data": {
            "text/plain": [
              "'ika'"
            ],
            "application/vnd.google.colaboratory.intrinsic+json": {
              "type": "string"
            }
          },
          "metadata": {},
          "execution_count": 82
        }
      ]
    },
    {
      "cell_type": "code",
      "source": [
        "str1[:9:]"
      ],
      "metadata": {
        "colab": {
          "base_uri": "https://localhost:8080/",
          "height": 36
        },
        "id": "R0gd9RzgJEnC",
        "outputId": "9a6bb711-02bd-41f5-bcd4-b872c26e9025"
      },
      "execution_count": 83,
      "outputs": [
        {
          "output_type": "execute_result",
          "data": {
            "text/plain": [
              "'Hellother'"
            ],
            "application/vnd.google.colaboratory.intrinsic+json": {
              "type": "string"
            }
          },
          "metadata": {},
          "execution_count": 83
        }
      ]
    },
    {
      "cell_type": "code",
      "source": [
        "str1[9:18:]"
      ],
      "metadata": {
        "colab": {
          "base_uri": "https://localhost:8080/",
          "height": 36
        },
        "id": "iky-9ZqjJK47",
        "outputId": "9dc8dd9c-a635-4565-c1e9-296b9af03e44"
      },
      "execution_count": 84,
      "outputs": [
        {
          "output_type": "execute_result",
          "data": {
            "text/plain": [
              "'eThisisAr'"
            ],
            "application/vnd.google.colaboratory.intrinsic+json": {
              "type": "string"
            }
          },
          "metadata": {},
          "execution_count": 84
        }
      ]
    }
  ]
}
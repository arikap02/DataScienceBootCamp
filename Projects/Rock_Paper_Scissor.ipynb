{
  "nbformat": 4,
  "nbformat_minor": 0,
  "metadata": {
    "colab": {
      "provenance": []
    },
    "kernelspec": {
      "name": "python3",
      "display_name": "Python 3"
    },
    "language_info": {
      "name": "python"
    }
  },
  "cells": [
    {
      "cell_type": "code",
      "execution_count": null,
      "metadata": {
        "id": "gA34SoOyWA5s"
      },
      "outputs": [],
      "source": [
        "# 3 choices in total. Played between Computer and user, User inputs. Game won't exit until the user wins.\n",
        "# 1. Rock\n",
        "# 2. Paper\n",
        "# 3. Scissor\n",
        "\n",
        "#Player A and Player B,If Player A selects rock and Player B selects scissor, Player A wins\n",
        "#                      If Player A selects Paper and Player B selects scissor, Player A wins\n",
        "#                      If Player A selects scissors and Player B selects paper, Player A wins\n",
        "#                      If both player select same choice then its a tie."
      ]
    },
    {
      "cell_type": "code",
      "source": [
        "#Create random choice using computer.\n",
        "\n",
        "import random\n",
        "Player_A = input(\"Please pick your Choice : \")\n",
        "Three_choices= [\"Rock\", \"Paper\", \"Scissors\"]\n",
        "Player_B = random.choice(Three_choices)\n",
        "\n",
        "while True:\n",
        "  if Player_A == Player_B:\n",
        "    print(\"It's a tie!\")\n",
        "  elif Player_A == \"Rock\":\n",
        "      if Player_B == \"Scissors\":\n",
        "        print(\"Player A is Winner!\")\n",
        "      else:\n",
        "        print(\"Player A loses.\")\n",
        "  elif Player_A == \"Paper\":\n",
        "      if Player_B == \"Rock\":\n",
        "        print(\"Player A is Winner!\")\n",
        "      else:\n",
        "        print(\"Player A loses.\")\n",
        "  elif Player_A == \"Scissors\":\n",
        "      if Player_B == \"Paper\":\n",
        "        print(\"Player A is Winner!\")\n",
        "      else:\n",
        "        print(\"Player A loses.\")\n",
        "  exit = input('Would you like to try again? Please Enter Y or N : ')\n",
        "  if exit=='N':\n",
        "    break"
      ],
      "metadata": {
        "id": "k_L26JPCW8bM",
        "colab": {
          "base_uri": "https://localhost:8080/"
        },
        "outputId": "f8515d54-2bc2-4a16-a237-e6fc4bfbfc47"
      },
      "execution_count": null,
      "outputs": [
        {
          "output_type": "stream",
          "name": "stdout",
          "text": [
            "Please pick your Choice : Paper\n",
            "It's a tie!\n"
          ]
        }
      ]
    }
  ]
}
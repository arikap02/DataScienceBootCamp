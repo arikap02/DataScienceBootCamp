{
  "nbformat": 4,
  "nbformat_minor": 0,
  "metadata": {
    "colab": {
      "provenance": []
    },
    "kernelspec": {
      "name": "python3",
      "display_name": "Python 3"
    },
    "language_info": {
      "name": "python"
    }
  },
  "cells": [
    {
      "cell_type": "code",
      "execution_count": null,
      "metadata": {
        "colab": {
          "base_uri": "https://localhost:8080/"
        },
        "id": "tQRvpjJvR41p",
        "outputId": "c6e6ce54-795e-433f-b513-c0133aacf1ef"
      },
      "outputs": [
        {
          "output_type": "stream",
          "name": "stdout",
          "text": [
            "True\n"
          ]
        }
      ],
      "source": [
        "#all() - Returns True if all elements in the given iterable are true. If not, returns false.\n",
        "\n",
        "set = {2,4,6,7,8}\n",
        "print(all(set)) #Returns true"
      ]
    },
    {
      "cell_type": "code",
      "source": [
        "#any() - Returns True if any element of iterable is true other wise returns false.\n",
        "\n",
        "set = {0,0,6,0}\n",
        "print(any(set))"
      ],
      "metadata": {
        "colab": {
          "base_uri": "https://localhost:8080/"
        },
        "id": "111wfeebTpWX",
        "outputId": "3dd5d008-4b01-4a4b-d97b-7e2d781a86f1"
      },
      "execution_count": null,
      "outputs": [
        {
          "output_type": "stream",
          "name": "stdout",
          "text": [
            "True\n"
          ]
        }
      ]
    },
    {
      "cell_type": "code",
      "source": [
        "#enumerate()- Adds a counter to an iterable and returns them.\n",
        "\n",
        "countrySet = {'Japan', 'Nepal', 'Italy', 'India', 'USA'}\n",
        "\n",
        "for i in enumerate(countrySet):\n",
        "  print(i)\n",
        "print()\n",
        "for count, i in enumerate(countrySet, 50): #changes default start value i.e 50\n",
        "  print(count, i)"
      ],
      "metadata": {
        "colab": {
          "base_uri": "https://localhost:8080/"
        },
        "id": "PxbFYFyQUo6U",
        "outputId": "67f216e3-8eaa-4832-f6da-ceb3230f1e93"
      },
      "execution_count": null,
      "outputs": [
        {
          "output_type": "stream",
          "name": "stdout",
          "text": [
            "(0, 'Nepal')\n",
            "(1, 'Italy')\n",
            "(2, 'USA')\n",
            "(3, 'Japan')\n",
            "(4, 'India')\n",
            "\n",
            "50 Nepal\n",
            "51 Italy\n",
            "52 USA\n",
            "53 Japan\n",
            "54 India\n"
          ]
        }
      ]
    },
    {
      "cell_type": "code",
      "source": [
        "#len() - Returns the number of items in the list.\n",
        "\n",
        "countrySet = {'Japan', 'Nepal', 'Italy', 'India', 'USA'}\n",
        "print(countrySet, 'length is', len(countrySet))"
      ],
      "metadata": {
        "colab": {
          "base_uri": "https://localhost:8080/"
        },
        "id": "OjHXEO1yWlWi",
        "outputId": "baf2d184-9437-428a-8a28-751f500e8e01"
      },
      "execution_count": null,
      "outputs": [
        {
          "output_type": "stream",
          "name": "stdout",
          "text": [
            "{'Nepal', 'Italy', 'USA', 'Japan', 'India'} length is 5\n"
          ]
        }
      ]
    },
    {
      "cell_type": "code",
      "source": [
        "#max() - Returns the largest item in between two or more parameters.\n",
        "numberSets = {29,4,67,7,98}\n",
        "print(max(numberSets))"
      ],
      "metadata": {
        "colab": {
          "base_uri": "https://localhost:8080/"
        },
        "id": "nekId9PnXqcY",
        "outputId": "ab492414-ee2d-47a8-cf48-2c91b1edabb4"
      },
      "execution_count": null,
      "outputs": [
        {
          "output_type": "stream",
          "name": "stdout",
          "text": [
            "98\n"
          ]
        }
      ]
    },
    {
      "cell_type": "code",
      "source": [
        "#min() - Returns the minimum item in between set.\n",
        "numberSets = {29,4,67,7,98}\n",
        "print(min(numberSets))"
      ],
      "metadata": {
        "colab": {
          "base_uri": "https://localhost:8080/"
        },
        "id": "VGH1UyiFZEr7",
        "outputId": "2d93339c-178a-4149-95fd-cca55255cab0"
      },
      "execution_count": null,
      "outputs": [
        {
          "output_type": "stream",
          "name": "stdout",
          "text": [
            "4\n"
          ]
        }
      ]
    },
    {
      "cell_type": "code",
      "source": [
        "#sorted() - Sorts the elements of a diveb iterable in specific order.\n",
        "numberSets = {29,4,67,7,98,88,76,44,32}\n",
        "print(sorted(numberSets))"
      ],
      "metadata": {
        "colab": {
          "base_uri": "https://localhost:8080/"
        },
        "id": "4cXqKAnNaqBn",
        "outputId": "9bb66899-6664-4f24-a135-1df92205d3c5"
      },
      "execution_count": null,
      "outputs": [
        {
          "output_type": "stream",
          "name": "stdout",
          "text": [
            "[4, 7, 29, 32, 44, 67, 76, 88, 98]\n"
          ]
        }
      ]
    },
    {
      "cell_type": "code",
      "source": [
        "#sum() - Returns sum of all elements in the set.\n",
        "numberSets = {29,4,67,7,98,88,76,44,32}\n",
        "print('Initial Set number :',numberSets)\n",
        "\n",
        "total_number = sum(numberSets)\n",
        "print('Sum of numbers is :- ',total_number)"
      ],
      "metadata": {
        "colab": {
          "base_uri": "https://localhost:8080/"
        },
        "id": "_dxlm2UFbdAw",
        "outputId": "fd0f49e1-b66b-454b-affd-e1b747f19e02"
      },
      "execution_count": null,
      "outputs": [
        {
          "output_type": "stream",
          "name": "stdout",
          "text": [
            "Initial Set number : {32, 98, 67, 4, 7, 76, 44, 88, 29}\n",
            "Sum of numbers is :-  445\n"
          ]
        }
      ]
    }
  ]
}
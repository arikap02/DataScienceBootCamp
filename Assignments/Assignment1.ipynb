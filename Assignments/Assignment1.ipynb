{
  "nbformat": 4,
  "nbformat_minor": 0,
  "metadata": {
    "colab": {
      "provenance": []
    },
    "kernelspec": {
      "name": "python3",
      "display_name": "Python 3"
    },
    "language_info": {
      "name": "python"
    }
  },
  "cells": [
    {
      "cell_type": "code",
      "execution_count": null,
      "metadata": {
        "id": "hp9X9lO5rHgX"
      },
      "outputs": [],
      "source": [
        "\"\"\"#1.A company decided to give bonus of 5% to employee if his/her year of service is more than 5 years.\n",
        "Ask user for their salary and year of service and print the net bonus amount.\"\"\n",
        "\n",
        "2.Take values of length and breadth of a rectangle from user and check if it is square or not.\n",
        "\n",
        "3.Take two int values from user and print greatest among them.\n",
        "\n",
        "4.A shop will give discount of 10% if the cost of purchased quantity is more than 1000.\n",
        "\n",
        "Ask user for quantity\n",
        "Suppose, one unit will cost 100.\n",
        "Judge and print total cost for user.\n",
        "\n",
        "5.A school has following rules for grading system:\n",
        "a. Below 25 - F\n",
        "b. 25 to 45 - E\n",
        "c. 45 to 50 - D\n",
        "d. 50 to 60 - C\n",
        "e. 60 to 80 - B\n",
        "f. Above 80 - A\n",
        "Ask user to enter marks and print the corresponding grade.\n",
        "\n",
        "6.Take input of age of 3 people by user and determine oldest and youngest among them.\n",
        "\n",
        "7.Write a program to print absolute vlaue of a number entered by user. E.g.-\n",
        "INPUT: 1        OUTPUT: 1\n",
        "INPUT: -1        OUTPUT: 1\n",
        "\n",
        "8.A student will not be allowed to sit in exam if his/her attendence is less than 75%.\n",
        "Take following input from user\n",
        "Number of classes held\n",
        "Number of classes attended.\n",
        "And print\n",
        "percentage of class attended\n",
        "Is student is allowed to sit in exam or not.\n",
        "\n",
        "9.Modify the above question to allow student to sit if he/she has medical cause. Ask user if he/she has medical cause or not ( 'Y' or 'N' ) and print accordingly.\n"
      ]
    },
    {
      "cell_type": "code",
      "source": [
        "#A company decided to give bonus of 5% to employee if his/her year of service is more than 5 years. Ask user for their salary and year of service and print the net bonus amount.\n",
        "emp_salary = int(input(\"Please enter your Salary :- \"))\n",
        "emp_service = int(input(\"Please enter your years of Service :- \" ))\n",
        "emp_bonus=emp_salary*(5/100)\n",
        "netAmount=emp_bonus + emp_salary\n",
        "if emp_service>5:\n",
        "  print('Net Bonus Amount=',netAmount)\n",
        "else:\n",
        "  print('Not Eligible For Bonus')\n",
        "\n",
        "\n"
      ],
      "metadata": {
        "colab": {
          "base_uri": "https://localhost:8080/"
        },
        "id": "Dc22j7Vern9T",
        "outputId": "abb76545-2c8f-40aa-ee68-5113a26f74ed"
      },
      "execution_count": 132,
      "outputs": [
        {
          "output_type": "stream",
          "name": "stdout",
          "text": [
            "Please enter your Salary :- 7000\n",
            "Please enter your years of Service :- 9\n",
            "Net Bonus Amount= 7350.0\n"
          ]
        }
      ]
    },
    {
      "cell_type": "code",
      "source": [
        "#Take values of length and breadth of a rectangle from user and check if it is square or not.\n",
        "input_length = input(\"Please enter the length :-\")\n",
        "input_breadth = input(\"Please enter the breadth :-\")\n",
        "if input_length==input_breadth:\n",
        "  print(\"It is a Square\")\n",
        "else:\n",
        "  print(\"It is not a Square\")"
      ],
      "metadata": {
        "colab": {
          "base_uri": "https://localhost:8080/"
        },
        "id": "g2_8ebOz4gV7",
        "outputId": "48d25c45-0743-4976-a28c-178525f36e8a"
      },
      "execution_count": 133,
      "outputs": [
        {
          "output_type": "stream",
          "name": "stdout",
          "text": [
            "Please enter the length :-6\n",
            "Please enter the breadth :-9\n",
            "It is not a Square\n"
          ]
        }
      ]
    },
    {
      "cell_type": "code",
      "source": [
        "#Take two int values from user and print greatest among them.\n",
        "number1 = input(\"Please enter the first number :-\")\n",
        "number2 = input(\"Please enter the second number :-\")\n",
        "if number1 >= number2:\n",
        "  print(\"The greatest number is number1\")\n",
        "else:\n",
        "  print(\"The greatest number is number2\")"
      ],
      "metadata": {
        "colab": {
          "base_uri": "https://localhost:8080/"
        },
        "id": "fG0nwKkV7GBr",
        "outputId": "024d745f-68f4-437d-fbbc-49a183e55c9c"
      },
      "execution_count": null,
      "outputs": [
        {
          "output_type": "stream",
          "name": "stdout",
          "text": [
            "Please enter the first number :-12\n",
            "Please enter the second number :-13\n",
            "The greatest number is number2\n"
          ]
        }
      ]
    },
    {
      "cell_type": "code",
      "source": [
        "#A shop will give discount of 10% if the cost of purchased quantity is more than 1000.\n",
        "\n",
        "Quantity = int(input(\"Please enter the cost of purchased quantity :- \"))\n",
        "Discount = Quantity*(10/100)\n",
        "Newprice = Quantity + Discount\n",
        "if Quantity>1000:\n",
        "  print(\"The new price is Discount\", Newprice);\n",
        "else:\n",
        "  print(Quantity)"
      ],
      "metadata": {
        "colab": {
          "base_uri": "https://localhost:8080/"
        },
        "id": "3BZQOmJS_xli",
        "outputId": "4c9ad2ca-755b-432d-dd21-de46d9da6769"
      },
      "execution_count": 140,
      "outputs": [
        {
          "output_type": "stream",
          "name": "stdout",
          "text": [
            "Please enter the cost of purchased quantity :- 1500\n",
            "The new price is Discount 1650.0\n"
          ]
        }
      ]
    },
    {
      "cell_type": "code",
      "source": [
        "'''5.A school has following rules for grading system:\n",
        "a. Below 25 - F\n",
        "b. 25 to 45 - E\n",
        "c. 45 to 50 - D\n",
        "d. 50 to 60 - C\n",
        "e. 60 to 80 - B\n",
        "f. Above 80 - A\n",
        "Ask user to enter marks and print the corresponding grade.'''\n",
        "\n",
        "input_mark = input(\"Please enter your marks :-\")\n",
        "if input_mark< \"25\":\n",
        "   print(\"F\")\n",
        "elif input_mark >= \"25\" and input_mark < \"45\":\n",
        "    print(\"E\")\n",
        "elif input_mark >= \"45\" and input_mark < \"50\":\n",
        "    print(\"D\")\n",
        "elif input_mark >= \"50\" and input_mark < \"60\":\n",
        "    print(\"C\")\n",
        "elif input_mark >= \"60\" and input_mark < \"80\":\n",
        "    print(\"B\")\n",
        "else:\n",
        "    print(\"A\")"
      ],
      "metadata": {
        "colab": {
          "base_uri": "https://localhost:8080/"
        },
        "id": "mZhLfsIIBjAn",
        "outputId": "6dcc2117-ce89-4e58-e4bf-f84b70b0bb61"
      },
      "execution_count": 161,
      "outputs": [
        {
          "output_type": "stream",
          "name": "stdout",
          "text": [
            "Please enter your marks :-99\n",
            "A\n"
          ]
        }
      ]
    },
    {
      "cell_type": "code",
      "source": [
        "#6.Take input of age of 3 people by user and determine oldest and youngest among them.\n",
        "\n",
        "Person1 = input(\"Please enter the age of Person 1 :- \")\n",
        "Person2 = input(\"Please enter the age of Person 2 :- \")\n",
        "Person3 = input(\"Please enter the age of Person 3 :- \")\n",
        "\n",
        "if Person1>Person2 and Person1>Person3:\n",
        "  print(\"Person1 is older than Person2 and Person3\")\n",
        "elif Person2>Person1 and Person2>Person3:\n",
        "  print(\"Person2 is older than Person1 and Person3\")\n",
        "elif Person3>Person1 and Person3>Person2:\n",
        "  print(\"Person3 is older than Person1 and Person2\")\n"
      ],
      "metadata": {
        "colab": {
          "base_uri": "https://localhost:8080/"
        },
        "id": "05QBnMPQDvDf",
        "outputId": "807efbcd-ed02-4ca7-ec71-ffb1a7904cf7"
      },
      "execution_count": 167,
      "outputs": [
        {
          "output_type": "stream",
          "name": "stdout",
          "text": [
            "Please enter the age of Person 1 :- 21\n",
            "Please enter the age of Person 2 :- 22\n",
            "Please enter the age of Person 3 :- 23\n",
            "Person3 is older than Person1 and Person2\n"
          ]
        }
      ]
    },
    {
      "cell_type": "code",
      "source": [
        "'''#7Write a program to print absolute vlaue of a number entered by user. E.g.-\n",
        "INPUT: 1        OUTPUT: 1\n",
        "INPUT: -1        OUTPUT: 1'''\n",
        "\n",
        "number = int(input(\"Please enter the number :- \"))\n",
        "Absolutevalue = abs(number)\n",
        "print(\"absolute value of number = \", Absolutevalue)"
      ],
      "metadata": {
        "colab": {
          "base_uri": "https://localhost:8080/"
        },
        "id": "AxD0FksPFe0Q",
        "outputId": "547f1cec-438c-4856-90d7-538fd21f5b13"
      },
      "execution_count": 191,
      "outputs": [
        {
          "output_type": "stream",
          "name": "stdout",
          "text": [
            "Please enter the number :- -9\n",
            "absolute value of number =  9\n"
          ]
        }
      ]
    },
    {
      "cell_type": "code",
      "source": [
        "'''#8 A student will not be allowed to sit in exam if his/her attendence is less than 75%.\n",
        "Take following input from user\n",
        "Number of classes held\n",
        "Number of classes attended.\n",
        "And print\n",
        "percentage of class attended\n",
        "Is student is allowed to sit in exam or not.'''\n",
        "\n",
        "class_held = int(input(\"Please enter the number of classes held :- \"))\n",
        "class_attended = int(input(\"Please enter the number of classes attended :- \"))\n",
        "stud_attendance = class_attended/class_held\n",
        "required_percentage = 75/100\n",
        "if stud_attendance < required_percentage:\n",
        "  print(\"Student is not allowed to sit in the class\")\n",
        "else:\n",
        "    print(\"Student is allowed to sit in the class\")"
      ],
      "metadata": {
        "colab": {
          "base_uri": "https://localhost:8080/"
        },
        "id": "v7SWqfpRGhBA",
        "outputId": "e719d5b8-3119-44a4-c5e2-f70732241d47"
      },
      "execution_count": 192,
      "outputs": [
        {
          "output_type": "stream",
          "name": "stdout",
          "text": [
            "Please enter the number of classes held :- 150\n",
            "Please enter the number of classes attended :- 90\n",
            "Student is not allowed to sit in the class\n"
          ]
        }
      ]
    },
    {
      "cell_type": "code",
      "source": [
        "#9.Modify the above question to allow student to sit if he/she has medical cause. Ask user if he/she has medical cause or not ( 'Y' or 'N' ) and print accordingly.\n",
        "med_ques = input(\"Does the student have medical cause? :- \")\n",
        "if med_ques == 'Y':\n",
        "  print(\"Student is not allowed to sit in the exam\")\n",
        "else:\n",
        "  print(\"Student is allowed to sit in the exam\")\n"
      ],
      "metadata": {
        "colab": {
          "base_uri": "https://localhost:8080/"
        },
        "id": "XeTPLXRiJZo4",
        "outputId": "189796fc-8a94-403e-f278-1dbaa3f0dbf8"
      },
      "execution_count": 101,
      "outputs": [
        {
          "output_type": "stream",
          "name": "stdout",
          "text": [
            "Does the student have medical cause? :- N\n",
            "Student is allowed to sit in the exam\n"
          ]
        }
      ]
    }
  ]
}
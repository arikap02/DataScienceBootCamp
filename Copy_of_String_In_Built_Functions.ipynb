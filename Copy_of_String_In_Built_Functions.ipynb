{
  "nbformat": 4,
  "nbformat_minor": 0,
  "metadata": {
    "colab": {
      "provenance": [],
      "authorship_tag": "ABX9TyO5gARMaZxVUyXLUXWmzFxH",
      "include_colab_link": true
    },
    "kernelspec": {
      "name": "python3",
      "display_name": "Python 3"
    },
    "language_info": {
      "name": "python"
    }
  },
  "cells": [
    {
      "cell_type": "markdown",
      "metadata": {
        "id": "view-in-github",
        "colab_type": "text"
      },
      "source": [
        "<a href=\"https://colab.research.google.com/github/arikap02/DataScienceBootCamp/blob/main/Copy_of_String_In_Built_Functions.ipynb\" target=\"_parent\"><img src=\"https://colab.research.google.com/assets/colab-badge.svg\" alt=\"Open In Colab\"/></a>"
      ]
    },
    {
      "cell_type": "code",
      "execution_count": null,
      "metadata": {
        "colab": {
          "base_uri": "https://localhost:8080/"
        },
        "id": "walbg7aDR5Hv",
        "outputId": "af131d53-e219-4784-fcfe-46700a888703"
      },
      "outputs": [
        {
          "output_type": "stream",
          "name": "stdout",
          "text": [
            "HloWrd\n"
          ]
        }
      ],
      "source": [
        "temp_str=\"Hello World\"\n",
        "print(temp_str[::2])\n",
        "# string slicing [start:Stop:step]"
      ]
    },
    {
      "cell_type": "code",
      "source": [
        "dir(temp_str) #Gives us all the functions available in Strings"
      ],
      "metadata": {
        "colab": {
          "base_uri": "https://localhost:8080/"
        },
        "id": "Vk6OOXWBSlwW",
        "outputId": "cd9bb582-05dc-4a0b-a5b0-723be3cf8e57"
      },
      "execution_count": null,
      "outputs": [
        {
          "output_type": "execute_result",
          "data": {
            "text/plain": [
              "['__add__',\n",
              " '__class__',\n",
              " '__contains__',\n",
              " '__delattr__',\n",
              " '__dir__',\n",
              " '__doc__',\n",
              " '__eq__',\n",
              " '__format__',\n",
              " '__ge__',\n",
              " '__getattribute__',\n",
              " '__getitem__',\n",
              " '__getnewargs__',\n",
              " '__gt__',\n",
              " '__hash__',\n",
              " '__init__',\n",
              " '__init_subclass__',\n",
              " '__iter__',\n",
              " '__le__',\n",
              " '__len__',\n",
              " '__lt__',\n",
              " '__mod__',\n",
              " '__mul__',\n",
              " '__ne__',\n",
              " '__new__',\n",
              " '__reduce__',\n",
              " '__reduce_ex__',\n",
              " '__repr__',\n",
              " '__rmod__',\n",
              " '__rmul__',\n",
              " '__setattr__',\n",
              " '__sizeof__',\n",
              " '__str__',\n",
              " '__subclasshook__',\n",
              " 'capitalize',\n",
              " 'casefold',\n",
              " 'center',\n",
              " 'count',\n",
              " 'encode',\n",
              " 'endswith',\n",
              " 'expandtabs',\n",
              " 'find',\n",
              " 'format',\n",
              " 'format_map',\n",
              " 'index',\n",
              " 'isalnum',\n",
              " 'isalpha',\n",
              " 'isascii',\n",
              " 'isdecimal',\n",
              " 'isdigit',\n",
              " 'isidentifier',\n",
              " 'islower',\n",
              " 'isnumeric',\n",
              " 'isprintable',\n",
              " 'isspace',\n",
              " 'istitle',\n",
              " 'isupper',\n",
              " 'join',\n",
              " 'ljust',\n",
              " 'lower',\n",
              " 'lstrip',\n",
              " 'maketrans',\n",
              " 'partition',\n",
              " 'removeprefix',\n",
              " 'removesuffix',\n",
              " 'replace',\n",
              " 'rfind',\n",
              " 'rindex',\n",
              " 'rjust',\n",
              " 'rpartition',\n",
              " 'rsplit',\n",
              " 'rstrip',\n",
              " 'split',\n",
              " 'splitlines',\n",
              " 'startswith',\n",
              " 'strip',\n",
              " 'swapcase',\n",
              " 'title',\n",
              " 'translate',\n",
              " 'upper',\n",
              " 'zfill']"
            ]
          },
          "metadata": {},
          "execution_count": 4
        }
      ]
    },
    {
      "cell_type": "code",
      "source": [
        "#Takes the 1st character of string to upper case\n",
        "temp_str=\"hello world\"\n",
        "print(temp_str.capitalize())"
      ],
      "metadata": {
        "colab": {
          "base_uri": "https://localhost:8080/"
        },
        "id": "GQAj-r7cTNfg",
        "outputId": "c192bed3-5664-491c-be9c-3b6228bfd096"
      },
      "execution_count": null,
      "outputs": [
        {
          "output_type": "stream",
          "name": "stdout",
          "text": [
            "Hello world\n"
          ]
        }
      ]
    },
    {
      "cell_type": "code",
      "source": [
        "#Returns a String where all characters are lowercase\n",
        "temp_str=\"Hello WorlD\"\n",
        "print(temp_str.casefold())"
      ],
      "metadata": {
        "colab": {
          "base_uri": "https://localhost:8080/"
        },
        "id": "2ZP3PUCdUP5S",
        "outputId": "8c3dfa8a-e3e1-4fc1-d460-4a1abc0034ce"
      },
      "execution_count": null,
      "outputs": [
        {
          "output_type": "stream",
          "name": "stdout",
          "text": [
            "hello world\n"
          ]
        }
      ]
    },
    {
      "cell_type": "code",
      "source": [
        "# Increases length of string by adding whatever character is mentioned if not by default fills by space\n",
        "temp_str=\"Hello WorlD\"\n",
        "print(temp_str.center(17,'*'))"
      ],
      "metadata": {
        "colab": {
          "base_uri": "https://localhost:8080/"
        },
        "id": "m2FN3G4WUsKI",
        "outputId": "c189d2c6-884e-4fa0-ae00-ca62e41e8beb"
      },
      "execution_count": null,
      "outputs": [
        {
          "output_type": "stream",
          "name": "stdout",
          "text": [
            "***Hello WorlD***\n"
          ]
        }
      ]
    },
    {
      "cell_type": "code",
      "source": [
        "# Returns how many times the substring appears in the given range by default picks full string\n",
        "# Count fucntion is case sensitive\n",
        "temp_str=\"HeLLo WorLD how is it going? Hello all good\".casefold()\n",
        "print(temp_str)\n",
        "print(temp_str.count(\"Hello\"))\n",
        "print(temp_str.count(\"hello\"))\n",
        "# How to give range\n",
        "# count(value,start,end) # start and end are optional if not given takes full string\n",
        "# It only works for alphabetic characters\n",
        "temp_str_2= \"hello world how is it going? hello all good\"\n",
        "print(temp_str_2.count(\" hello \",2))\n",
        "print(temp_str_2[2:5])"
      ],
      "metadata": {
        "colab": {
          "base_uri": "https://localhost:8080/"
        },
        "id": "xdqZtZ9lWf97",
        "outputId": "5cf2fa28-cecd-4b6e-d0f4-54b79db0b83e"
      },
      "execution_count": null,
      "outputs": [
        {
          "output_type": "stream",
          "name": "stdout",
          "text": [
            "hello world how is it going? hello all good\n",
            "0\n",
            "2\n",
            "1\n",
            "llo\n"
          ]
        }
      ]
    },
    {
      "cell_type": "code",
      "source": [
        "# returns False on the basis of Suffix passed.\n",
        "temp_str=\"HeLLo WorlD how is it going? Hello all good!\"\n",
        "print(temp_str.endswith(\"god!\"))"
      ],
      "metadata": {
        "colab": {
          "base_uri": "https://localhost:8080/"
        },
        "id": "fHj7VUKTXGzt",
        "outputId": "3c8d52b1-558e-4a02-96bd-e7049dcb8b46"
      },
      "execution_count": null,
      "outputs": [
        {
          "output_type": "stream",
          "name": "stdout",
          "text": [
            "False\n"
          ]
        }
      ]
    },
    {
      "cell_type": "code",
      "source": [
        "# returns False on the basis of Suffix passed.\n",
        "temp_str=\"HeLLo WorlD how is it going? Hello all good!\"\n",
        "# endswith(value,start,end)\n",
        "print(temp_str.endswith(\"god!\",0,5))"
      ],
      "metadata": {
        "colab": {
          "base_uri": "https://localhost:8080/"
        },
        "id": "VhbzCgbrcCPf",
        "outputId": "1df6239f-aa2c-4f08-c5b3-bebf0530f6f5"
      },
      "execution_count": null,
      "outputs": [
        {
          "output_type": "stream",
          "name": "stdout",
          "text": [
            "False\n"
          ]
        }
      ]
    },
    {
      "cell_type": "code",
      "source": [
        "# returns True on the basis of Suffix passed.\n",
        "temp_str=\"HeLLo WorlD how is it going? Hello all good!\"\n",
        "# endswith(value,start,end)\n",
        "print(temp_str.endswith(\"Lo\",0,5))"
      ],
      "metadata": {
        "colab": {
          "base_uri": "https://localhost:8080/"
        },
        "id": "RQBiFU1kcQWz",
        "outputId": "752af921-e9ad-4851-8bb1-83c5dbe53b85"
      },
      "execution_count": null,
      "outputs": [
        {
          "output_type": "stream",
          "name": "stdout",
          "text": [
            "True\n"
          ]
        }
      ]
    },
    {
      "cell_type": "code",
      "source": [
        "# returns True on the basis of Suffix passed.\n",
        "temp_str=\"HeLLo WorlD how is it going? Hello all good!\"\n",
        "# endswith(value,start,end)\n",
        "print(temp_str.endswith(\"good\",0,len(temp_str)-1))\n",
        "print(len(temp_str))"
      ],
      "metadata": {
        "colab": {
          "base_uri": "https://localhost:8080/"
        },
        "id": "2PTgg20pc0rA",
        "outputId": "29195af2-7268-4baa-c64f-a453dee3ae93"
      },
      "execution_count": null,
      "outputs": [
        {
          "output_type": "stream",
          "name": "stdout",
          "text": [
            "True\n",
            "44\n"
          ]
        }
      ]
    },
    {
      "cell_type": "code",
      "source": [
        "# returns lowest index of the substring if found else returns -1\n",
        "temp_str=\"HeLLo WorlD how is it going? Hello all good! how are you!\"\n",
        "print(temp_str.find(\"how\"))\n"
      ],
      "metadata": {
        "colab": {
          "base_uri": "https://localhost:8080/"
        },
        "id": "MAzRiA8XdaBo",
        "outputId": "792d81c1-ed43-4f21-c22c-ac4aca46fef4"
      },
      "execution_count": null,
      "outputs": [
        {
          "output_type": "stream",
          "name": "stdout",
          "text": [
            "12\n"
          ]
        }
      ]
    },
    {
      "cell_type": "code",
      "source": [
        "temp_str=\"HeLLo my name is {fname}, I am a {position}!\"\n",
        "print(temp_str)\n",
        "print(temp_str.format(fname=\"Arika\",position= \"Data Scientist\"))\n",
        "\n",
        "temp_str1=\"HeLLo my name is {0}, I am a {1}!\"\n",
        "print(temp_str1.format(\"Data Scientist\", \"Arika\"))"
      ],
      "metadata": {
        "colab": {
          "base_uri": "https://localhost:8080/"
        },
        "id": "bfzk59lweT_U",
        "outputId": "be8b306f-164e-4e29-9c80-5ff4c9148167"
      },
      "execution_count": null,
      "outputs": [
        {
          "output_type": "stream",
          "name": "stdout",
          "text": [
            "HeLLo my name is {fname}, I am a {position}!\n",
            "HeLLo my name is Arika, I am a Data Scientist!\n",
            "HeLLo my name is Data Scientist, I am a Arika!\n"
          ]
        }
      ]
    },
    {
      "cell_type": "code",
      "source": [
        "# Functions jumped\n",
        "# 1 format map\n",
        "# 2 expandtabs"
      ],
      "metadata": {
        "id": "pW0tC4xvhZmr"
      },
      "execution_count": null,
      "outputs": []
    },
    {
      "cell_type": "code",
      "source": [
        "# replica of find function but it returns error if nothing is found\n",
        "temp_str=\"HeLLo WorLD how is it going? Hello all good! how are you!\"\n",
        "temp_str.index(\"how111\")"
      ],
      "metadata": {
        "colab": {
          "base_uri": "https://localhost:8080/",
          "height": 215
        },
        "id": "0-MfPCcKhnAV",
        "outputId": "df90b00b-f152-4150-97f7-5669b5efcfb4"
      },
      "execution_count": null,
      "outputs": [
        {
          "output_type": "error",
          "ename": "ValueError",
          "evalue": "ignored",
          "traceback": [
            "\u001b[0;31m---------------------------------------------------------------------------\u001b[0m",
            "\u001b[0;31mValueError\u001b[0m                                Traceback (most recent call last)",
            "\u001b[0;32m<ipython-input-63-9b5bdf759e5f>\u001b[0m in \u001b[0;36m<cell line: 3>\u001b[0;34m()\u001b[0m\n\u001b[1;32m      1\u001b[0m \u001b[0;31m# replica of find function but it returns error if nothing is found\u001b[0m\u001b[0;34m\u001b[0m\u001b[0;34m\u001b[0m\u001b[0m\n\u001b[1;32m      2\u001b[0m \u001b[0mtemp_str\u001b[0m\u001b[0;34m=\u001b[0m\u001b[0;34m\"HeLLo WorLD how is it going? Hello all good! how are you!\"\u001b[0m\u001b[0;34m\u001b[0m\u001b[0;34m\u001b[0m\u001b[0m\n\u001b[0;32m----> 3\u001b[0;31m \u001b[0mtemp_str\u001b[0m\u001b[0;34m.\u001b[0m\u001b[0mindex\u001b[0m\u001b[0;34m(\u001b[0m\u001b[0;34m\"how111\"\u001b[0m\u001b[0;34m)\u001b[0m\u001b[0;34m\u001b[0m\u001b[0;34m\u001b[0m\u001b[0m\n\u001b[0m",
            "\u001b[0;31mValueError\u001b[0m: substring not found"
          ]
        }
      ]
    },
    {
      "cell_type": "code",
      "source": [
        "#Returns True if only numbers and alphabets are present else returns false\n",
        "temp_str=\"HeLLo WorLD how is it going? Hello all good! how are you!\"\n",
        "temp_str1=\"HelloWorld23223\"\n",
        "print(temp_str[0:5].isalnum())\n",
        "print(temp_str1.isalnum())\n",
        "print(temp_str.isalnum())"
      ],
      "metadata": {
        "colab": {
          "base_uri": "https://localhost:8080/"
        },
        "id": "v-9N2vF9iJco",
        "outputId": "b8d92360-5a49-4f7f-ede5-56f459b3f15a"
      },
      "execution_count": null,
      "outputs": [
        {
          "output_type": "stream",
          "name": "stdout",
          "text": [
            "True\n",
            "True\n",
            "False\n"
          ]
        }
      ]
    },
    {
      "cell_type": "code",
      "source": [
        "# Returns True if only alphabets are present else returns false\n",
        "temp_str=\"HeLLoWorlD\"\n",
        "temp_str1=\"HeLLo WorlD\"\n",
        "temp_str2=\"HeLLoWorlD12341234\"\n",
        "print(temp_str.isalpha())\n",
        "print(temp_str1.isalpha())\n",
        "print(temp_str2.isalpha())"
      ],
      "metadata": {
        "colab": {
          "base_uri": "https://localhost:8080/"
        },
        "id": "l0ExuzyJjerg",
        "outputId": "20a819ad-5f2f-4534-f3eb-84ae6b5e11b0"
      },
      "execution_count": null,
      "outputs": [
        {
          "output_type": "stream",
          "name": "stdout",
          "text": [
            "True\n",
            "False\n",
            "False\n"
          ]
        }
      ]
    },
    {
      "cell_type": "code",
      "source": [
        "# returns true if only numbers between 0-9 else returns false\n",
        "# unicode = type of encoding\n",
        "temp_str=\"Hello WorLD\"\n",
        "print(temp_str.isdecimal())\n",
        "temp_str1=\"12341234123452\"\n",
        "print(temp_str1.isdecimal())\n",
        "temp_st21=\"  12341234123452  \"\n",
        "print(temp_str2.isdecimal())\n",
        "unicode_0=\"\\u0030\"\n",
        "print(unicode_0.isdecimal())"
      ],
      "metadata": {
        "colab": {
          "base_uri": "https://localhost:8080/"
        },
        "id": "8ahXw0qhkakt",
        "outputId": "2531bbba-f6eb-496e-8123-1b9cfaac6480"
      },
      "execution_count": null,
      "outputs": [
        {
          "output_type": "stream",
          "name": "stdout",
          "text": [
            "False\n",
            "True\n",
            "False\n",
            "True\n"
          ]
        }
      ]
    },
    {
      "cell_type": "code",
      "source": [
        "temp_str=\"0123434677987665\"\n",
        "temp_str.isdigit()"
      ],
      "metadata": {
        "colab": {
          "base_uri": "https://localhost:8080/"
        },
        "id": "essBIE-elDTo",
        "outputId": "50818341-5ba7-4fbb-8d18-707f5bfdfc7d"
      },
      "execution_count": null,
      "outputs": [
        {
          "output_type": "execute_result",
          "data": {
            "text/plain": [
              "True"
            ]
          },
          "metadata": {},
          "execution_count": 77
        }
      ]
    },
    {
      "cell_type": "code",
      "source": [
        "temp_str=\"0123434677987665\"\n",
        "temp_str1=\"HeLLo WorLD\"\n",
        "unicode_0=\"\\u0030\"\n",
        "super_string='2'\n",
        "print(temp_str.isdigit())\n",
        "print(temp_str1.isdigit())\n",
        "print(unicode_0.isdigit())"
      ],
      "metadata": {
        "colab": {
          "base_uri": "https://localhost:8080/"
        },
        "id": "YiM1fd2umTCn",
        "outputId": "e1ddd2fa-4dac-4303-bbd4-462cdc1abec2"
      },
      "execution_count": null,
      "outputs": [
        {
          "output_type": "stream",
          "name": "stdout",
          "text": [
            "True\n",
            "False\n",
            "True\n"
          ]
        }
      ]
    },
    {
      "cell_type": "code",
      "source": [
        "# Returns True if the word is a keyword in python else returns False\n",
        "temp_str=\"Hello world\"\n",
        "print(temp_str.isidentifier)"
      ],
      "metadata": {
        "id": "OzK7-7bmcZFT"
      },
      "execution_count": null,
      "outputs": []
    },
    {
      "cell_type": "code",
      "source": [
        "#isspace\n",
        "#Returns True only if white spaces else returns false\n",
        "temp_str=\"Hello WORLD\"\n",
        "print(temp_str.isspace())\n",
        "temp_str2=\"\"\n",
        "print(temp_str2.isspace())\n"
      ],
      "metadata": {
        "colab": {
          "base_uri": "https://localhost:8080/"
        },
        "id": "qBa7H3aidEmh",
        "outputId": "7e226364-ff5f-4a6e-d444-a72d68603453"
      },
      "execution_count": null,
      "outputs": [
        {
          "output_type": "stream",
          "name": "stdout",
          "text": [
            "False\n",
            "False\n"
          ]
        }
      ]
    },
    {
      "cell_type": "code",
      "source": [
        "#istitle\n",
        "#Returns True if first characters\n",
        "temp_str=\"Hello WORLD\"\n",
        "print(temp_str.istitle())\n",
        "temp_str2=\"Hello World\"\n",
        "print(temp_str2.istitle())"
      ],
      "metadata": {
        "colab": {
          "base_uri": "https://localhost:8080/"
        },
        "id": "oTKT3zPHdhXJ",
        "outputId": "d39cea6d-9aeb-4a67-fffd-6dbc0de28d15"
      },
      "execution_count": null,
      "outputs": [
        {
          "output_type": "stream",
          "name": "stdout",
          "text": [
            "False\n",
            "True\n"
          ]
        }
      ]
    },
    {
      "cell_type": "code",
      "source": [
        "#isupper\n",
        "# If all the alphabets available are in upper case it Returns True\n",
        "temp_str=\"Hello WORLD\"\n",
        "print(temp_str.isupper())\n",
        "temp_str2=\"HELLO WORLDDDDD12222###@@@!!\"\n",
        "print(temp_str2.isupper())"
      ],
      "metadata": {
        "colab": {
          "base_uri": "https://localhost:8080/"
        },
        "id": "6B3VygVZfpPG",
        "outputId": "4a425ffa-2f97-4312-d50e-1c2ea7f1e5b7"
      },
      "execution_count": null,
      "outputs": [
        {
          "output_type": "stream",
          "name": "stdout",
          "text": [
            "False\n",
            "True\n"
          ]
        }
      ]
    },
    {
      "cell_type": "code",
      "source": [
        "#join\n",
        "# Itetrables are list, tuple\n",
        "list_temp=[\"1111\",\"Hello\",\"World\",\"How\",\"are\",\"you\"]\n",
        "print(\"#\".join(list_temp))"
      ],
      "metadata": {
        "colab": {
          "base_uri": "https://localhost:8080/"
        },
        "id": "mf3rovPWgFq3",
        "outputId": "3b3000e7-1475-40ef-86f7-ae75c749a8f8"
      },
      "execution_count": null,
      "outputs": [
        {
          "output_type": "stream",
          "name": "stdout",
          "text": [
            "1111#Hello#World#How#are#you\n"
          ]
        }
      ]
    },
    {
      "cell_type": "code",
      "source": [
        "temp_str=\"Hello WOrld\"\n",
        "print(temp_str.lower())\n",
        "string_german=\"Ä\"\n",
        "print(string_german.lower())\n",
        "print(string_german.casefold())"
      ],
      "metadata": {
        "colab": {
          "base_uri": "https://localhost:8080/"
        },
        "id": "jBcgNSangttK",
        "outputId": "0b86e68a-cd96-4256-ce0e-84efe24e5211"
      },
      "execution_count": null,
      "outputs": [
        {
          "output_type": "stream",
          "name": "stdout",
          "text": [
            "hello world\n",
            "ä\n",
            "ä\n"
          ]
        }
      ]
    },
    {
      "cell_type": "code",
      "source": [
        "#lstrip\n",
        "#Removes white spaces and tabs on the left side of the string\n",
        "temp_str=\"            Hello WOrld            \"\n",
        "print(temp_str.lstrip())"
      ],
      "metadata": {
        "colab": {
          "base_uri": "https://localhost:8080/"
        },
        "id": "D9fVgOOQiTUT",
        "outputId": "0bdeb56c-72f1-4608-d0ff-32bfab5a57f8"
      },
      "execution_count": null,
      "outputs": [
        {
          "output_type": "stream",
          "name": "stdout",
          "text": [
            "Hello WOrld          \n"
          ]
        }
      ]
    },
    {
      "cell_type": "code",
      "source": [
        "#partition\n",
        "temp_str=\"i could eat apples all day\"\n",
        "print(temp_str.partition(\"apples\"))\n",
        "print(temp_str.partition(\"apples123123123\")) #it couldn't find the word \"apples123123123\" in the string so it returns all the sentence\n",
        "print(temp_str.partition(\"apple1\"))#it couldn't find the word \"apples1\" in the string so it returns all the sentence"
      ],
      "metadata": {
        "colab": {
          "base_uri": "https://localhost:8080/"
        },
        "id": "c0J8ayApio2j",
        "outputId": "aa08f171-c22e-47f1-88ed-77885f0f08f0"
      },
      "execution_count": null,
      "outputs": [
        {
          "output_type": "stream",
          "name": "stdout",
          "text": [
            "('i could eat ', 'apples', ' all day')\n",
            "('i could eat apples all day', '', '')\n",
            "('i could eat apples all day', '', '')\n"
          ]
        }
      ]
    },
    {
      "cell_type": "code",
      "source": [
        "#replace(important function)\n",
        "#Replaces the specific word you want to replace\n",
        "temp_str=\"i could eat apples all day, thats all i can say\"\n",
        "temp_str.replace('all','not')\n",
        "#Multiple words replace\n",
        "temp_str.replace('all','not').replace('apples','mangoes')"
      ],
      "metadata": {
        "colab": {
          "base_uri": "https://localhost:8080/",
          "height": 36
        },
        "id": "rRqWhklPkEYu",
        "outputId": "67d12f95-b5e1-4fa3-8ca8-d6b355c5e62e"
      },
      "execution_count": null,
      "outputs": [
        {
          "output_type": "execute_result",
          "data": {
            "text/plain": [
              "'i could eat mangoes not day, thats not i can say'"
            ],
            "application/vnd.google.colaboratory.intrinsic+json": {
              "type": "string"
            }
          },
          "metadata": {},
          "execution_count": 28
        }
      ]
    },
    {
      "cell_type": "code",
      "source": [
        "#Removes white spaces form the right hand side\n",
        "#rstrip\n",
        "temp_str=\"           Hello WOrld                \"\n",
        "temp_str.rstrip()"
      ],
      "metadata": {
        "colab": {
          "base_uri": "https://localhost:8080/",
          "height": 36
        },
        "id": "cIq-u3SylbEH",
        "outputId": "9c57bfd2-786e-4e2c-9dfb-f1170df6e430"
      },
      "execution_count": null,
      "outputs": [
        {
          "output_type": "execute_result",
          "data": {
            "text/plain": [
              "'           Hello WOrld'"
            ],
            "application/vnd.google.colaboratory.intrinsic+json": {
              "type": "string"
            }
          },
          "metadata": {},
          "execution_count": 29
        }
      ]
    },
    {
      "cell_type": "code",
      "source": [
        "# Splits the string according to the delimeter being passed\n",
        "# split(important function)\n",
        "temp_str=\"i could eat apples all day, thats all i can say\"\n",
        "temp_str.split(\",\")"
      ],
      "metadata": {
        "colab": {
          "base_uri": "https://localhost:8080/"
        },
        "id": "YOhiaXhUlyhw",
        "outputId": "00df3c7c-81ed-4a9c-8711-42d79ae17369"
      },
      "execution_count": null,
      "outputs": [
        {
          "output_type": "execute_result",
          "data": {
            "text/plain": [
              "['i could eat apples all day', ' thats all i can say']"
            ]
          },
          "metadata": {},
          "execution_count": 35
        }
      ]
    },
    {
      "cell_type": "code",
      "source": [
        "#startswith\n",
        "temp_str=\"i could eat apples all day, thats all i can say\"\n",
        "print(temp_str.startswith(\"i\"))\n",
        "print(temp_str.startswith(\"could\",2))"
      ],
      "metadata": {
        "colab": {
          "base_uri": "https://localhost:8080/"
        },
        "id": "Ax3HRWzomqds",
        "outputId": "15b6ce77-c44f-4206-abee-8305cee1dc4d"
      },
      "execution_count": null,
      "outputs": [
        {
          "output_type": "stream",
          "name": "stdout",
          "text": [
            "True\n",
            "True\n"
          ]
        }
      ]
    },
    {
      "cell_type": "code",
      "source": [
        "# Removes whitespaces from right or left\n",
        "# strip\n",
        "temp_str=\"           Hello WOrld                \"\n",
        "temp_str.strip()"
      ],
      "metadata": {
        "colab": {
          "base_uri": "https://localhost:8080/",
          "height": 36
        },
        "id": "p3uDkvgTnWcE",
        "outputId": "b1e04589-9cf1-434b-e852-32ead626161e"
      },
      "execution_count": null,
      "outputs": [
        {
          "output_type": "execute_result",
          "data": {
            "text/plain": [
              "'           Hello WOrld'"
            ],
            "application/vnd.google.colaboratory.intrinsic+json": {
              "type": "string"
            }
          },
          "metadata": {},
          "execution_count": 43
        }
      ]
    },
    {
      "cell_type": "code",
      "source": [
        "# swapcase\n",
        "# Swaps upper case to lower and vice versa\n",
        "temp_str=\"i could eat APPLES all day, thats all i can say\"\n",
        "temp_str.swapcase()"
      ],
      "metadata": {
        "colab": {
          "base_uri": "https://localhost:8080/",
          "height": 36
        },
        "id": "8YHqwNMJnn-f",
        "outputId": "1d662540-16e5-4641-be22-c7d10dd23d14"
      },
      "execution_count": null,
      "outputs": [
        {
          "output_type": "execute_result",
          "data": {
            "text/plain": [
              "'I COULD EAT apples ALL DAY, THATS ALL I CAN SAY'"
            ],
            "application/vnd.google.colaboratory.intrinsic+json": {
              "type": "string"
            }
          },
          "metadata": {},
          "execution_count": 45
        }
      ]
    },
    {
      "cell_type": "code",
      "source": [
        "# title\n",
        "# Changes all the first letter of each word to Upper case\n",
        "temp_str=\"i could eat APPLES all day, thats all i can say\"\n",
        "temp_str.title()"
      ],
      "metadata": {
        "colab": {
          "base_uri": "https://localhost:8080/",
          "height": 36
        },
        "id": "R_8BvriEn6WX",
        "outputId": "81be145a-6cb2-4b0b-d4d1-bacc98949898"
      },
      "execution_count": null,
      "outputs": [
        {
          "output_type": "execute_result",
          "data": {
            "text/plain": [
              "'I Could Eat Apples All Day, Thats All I Can Say'"
            ],
            "application/vnd.google.colaboratory.intrinsic+json": {
              "type": "string"
            }
          },
          "metadata": {},
          "execution_count": 47
        }
      ]
    },
    {
      "cell_type": "code",
      "source": [
        "temp_str=\"i CouLd eat aPpLES all DaY, thats all i cAn saY\"\n",
        "temp_str.title()"
      ],
      "metadata": {
        "colab": {
          "base_uri": "https://localhost:8080/",
          "height": 36
        },
        "id": "Hr3Su6eNoRyv",
        "outputId": "2ccb3157-c353-47bc-b613-326232d4d7c6"
      },
      "execution_count": null,
      "outputs": [
        {
          "output_type": "execute_result",
          "data": {
            "text/plain": [
              "'I Could Eat Apples All Day, Thats All I Can Say'"
            ],
            "application/vnd.google.colaboratory.intrinsic+json": {
              "type": "string"
            }
          },
          "metadata": {},
          "execution_count": 48
        }
      ]
    },
    {
      "cell_type": "code",
      "source": [
        "# Dictionaries\n",
        "temp_str={83:80,83:78}\n",
        "print (temp_str)"
      ],
      "metadata": {
        "colab": {
          "base_uri": "https://localhost:8080/"
        },
        "id": "TCY_Ocl_o8tI",
        "outputId": "a69bc122-7d3b-4fb6-a077-ff8e93099658"
      },
      "execution_count": null,
      "outputs": [
        {
          "output_type": "stream",
          "name": "stdout",
          "text": [
            "{83: 78}\n"
          ]
        }
      ]
    },
    {
      "cell_type": "code",
      "source": [
        "temp_str={\"brand\":\"Ford\",\"model\":\"Mustang\",\"year\":1964,\"year\":2020}\n",
        "print(temp_str)"
      ],
      "metadata": {
        "colab": {
          "base_uri": "https://localhost:8080/"
        },
        "id": "oHbvoHycpw03",
        "outputId": "6172ef8f-54fd-4a6e-d2e1-52f53f9fd584"
      },
      "execution_count": null,
      "outputs": [
        {
          "output_type": "stream",
          "name": "stdout",
          "text": [
            "{'brand': 'Ford', 'model': 'Mustang', 'year': 2020}\n"
          ]
        }
      ]
    },
    {
      "cell_type": "code",
      "source": [
        "temp_str={\"brand\":\"Ford\",\"model\":\"Mustang\",\"year\":1964,\"year\":2020}\n",
        "print(temp_str[\"brand\"])"
      ],
      "metadata": {
        "colab": {
          "base_uri": "https://localhost:8080/"
        },
        "id": "0GJFTeIBqR4k",
        "outputId": "6f08419f-1a47-4b88-df54-6cc2f72ff06e"
      },
      "execution_count": null,
      "outputs": [
        {
          "output_type": "stream",
          "name": "stdout",
          "text": [
            "Ford\n"
          ]
        }
      ]
    },
    {
      "cell_type": "code",
      "source": [
        "# Converts Strings to keys where name is key and John is value.\n",
        "thisdict=dict(name=\"john\", age=34,country=\"England\")\n",
        "print(thisdict)"
      ],
      "metadata": {
        "colab": {
          "base_uri": "https://localhost:8080/"
        },
        "id": "8hkYyAPpqjyd",
        "outputId": "66f0fe46-d78e-43b2-cd6b-c9bbe83aec9b"
      },
      "execution_count": null,
      "outputs": [
        {
          "output_type": "stream",
          "name": "stdout",
          "text": [
            "{'name': 'john', 'age': 34, 'country': 'England'}\n"
          ]
        }
      ]
    },
    {
      "cell_type": "code",
      "source": [
        "# Assci Code value of S is 83 defaultly we replace it with 80 here which is P.\n",
        "temp_dict={83:80, 72:77, 83:76}\n",
        "temp_str=\"Hello Sam!SHHHHH\"\n",
        "temp_str.translate(temp_dict)"
      ],
      "metadata": {
        "colab": {
          "base_uri": "https://localhost:8080/",
          "height": 36
        },
        "id": "ZY2-GXiVreTs",
        "outputId": "15de2890-e517-47cf-cd17-f2e79d2466e7"
      },
      "execution_count": null,
      "outputs": [
        {
          "output_type": "execute_result",
          "data": {
            "text/plain": [
              "'Mello Lam!LMMMMM'"
            ],
            "application/vnd.google.colaboratory.intrinsic+json": {
              "type": "string"
            }
          },
          "metadata": {},
          "execution_count": 62
        }
      ]
    },
    {
      "cell_type": "code",
      "source": [
        "temp_str=\"i could eat APPLES all day, thats all i can say\"\n",
        "temp_str.upper()"
      ],
      "metadata": {
        "colab": {
          "base_uri": "https://localhost:8080/",
          "height": 36
        },
        "id": "r3W-o4Fuscmx",
        "outputId": "f0c28da3-02a9-47cc-f004-d8acc8966fd0"
      },
      "execution_count": null,
      "outputs": [
        {
          "output_type": "execute_result",
          "data": {
            "text/plain": [
              "'I COULD EAT APPLES ALL DAY, THATS ALL I CAN SAY'"
            ],
            "application/vnd.google.colaboratory.intrinsic+json": {
              "type": "string"
            }
          },
          "metadata": {},
          "execution_count": 63
        }
      ]
    },
    {
      "cell_type": "code",
      "source": [
        "# increases the length of the string by adding 0 to the beginning of the string.\n",
        "temp_str=\"i could eat APPLES all day, thats all i can say\"\n",
        "print(len(temp_str))\n",
        "print(temp_str.zfill(10))\n",
        "print(temp_str.zfill(50))"
      ],
      "metadata": {
        "colab": {
          "base_uri": "https://localhost:8080/"
        },
        "id": "kGINRp61uHg9",
        "outputId": "5bab795a-f00d-4cbf-925f-4f66c14c0a8d"
      },
      "execution_count": null,
      "outputs": [
        {
          "output_type": "stream",
          "name": "stdout",
          "text": [
            "47\n",
            "i could eat APPLES all day, thats all i can say\n",
            "000i could eat APPLES all day, thats all i can say\n"
          ]
        }
      ]
    }
  ]
}